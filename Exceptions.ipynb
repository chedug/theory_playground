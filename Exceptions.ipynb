{
 "cells": [
  {
   "cell_type": "markdown",
   "metadata": {},
   "source": [
    "TODO: improve later but for now I just wanted to show that in try-except-finally block, finally takes higher precedence in case of function returns"
   ]
  },
  {
   "cell_type": "code",
   "execution_count": 10,
   "metadata": {},
   "outputs": [],
   "source": [
    "def negative(n):\n",
    "    try:\n",
    "        print('in try ...')\n",
    "        return print(\"EXITED IN TRY\")\n",
    "    except TypeError:\n",
    "        return \"WRONG TYPE\"\n",
    "    finally:\n",
    "        return \"Finally block :p\""
   ]
  },
  {
   "cell_type": "code",
   "execution_count": 11,
   "metadata": {},
   "outputs": [
    {
     "name": "stdout",
     "output_type": "stream",
     "text": [
      "in try ...\n",
      "EXITED IN TRY\n",
      "Finally block :p\n"
     ]
    }
   ],
   "source": [
    "print(negative(\"fqw\"))"
   ]
  },
  {
   "cell_type": "code",
   "execution_count": null,
   "metadata": {},
   "outputs": [],
   "source": []
  }
 ],
 "metadata": {
  "kernelspec": {
   "display_name": "playground_env",
   "language": "python",
   "name": "python3"
  },
  "language_info": {
   "codemirror_mode": {
    "name": "ipython",
    "version": 3
   },
   "file_extension": ".py",
   "mimetype": "text/x-python",
   "name": "python",
   "nbconvert_exporter": "python",
   "pygments_lexer": "ipython3",
   "version": "3.11.4"
  }
 },
 "nbformat": 4,
 "nbformat_minor": 2
}
