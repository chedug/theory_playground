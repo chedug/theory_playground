{
 "cells": [
  {
   "cell_type": "markdown",
   "id": "56fdf352",
   "metadata": {},
   "source": [
    "**Method Resolution Order :**  \n",
    "Method Resolution Order(MRO) it denotes the way a programming language resolves a method or attribute. Python supports classes inheriting from other classes. The class being inherited is called the Parent or Superclass, while the class that inherits is called the Child or Subclass. In python, method resolution order defines the order in which the base classes are searched when executing a method. First, the method or attribute is searched within a class and then it follows the order we specified while inheriting. This order is also called Linearization of a class and set of rules are called MRO(Method Resolution Order). While inheriting from another class, the interpreter needs a way to resolve the methods that are being called via an instance. Thus we need the method resolution order. For Example"
   ]
  },
  {
   "cell_type": "code",
   "execution_count": 7,
   "id": "77aad970",
   "metadata": {},
   "outputs": [
    {
     "name": "stdout",
     "output_type": "stream",
     "text": [
      "in class A\n",
      "in class B\n"
     ]
    }
   ],
   "source": [
    "class A:\n",
    "    def rk(self):\n",
    "        print(\"in class A\")\n",
    "        \n",
    "class B(A):\n",
    "    def rk(self):\n",
    "        super().rk()\n",
    "        print(\"in class B\")\n",
    "        \n",
    "r = B()\n",
    "r.rk()"
   ]
  },
  {
   "cell_type": "markdown",
   "id": "16038ba5",
   "metadata": {},
   "source": [
    "**How MRO works:**"
   ]
  },
  {
   "cell_type": "code",
   "execution_count": 23,
   "id": "06c1278f",
   "metadata": {},
   "outputs": [
    {
     "name": "stdout",
     "output_type": "stream",
     "text": [
      " In class B\n"
     ]
    },
    {
     "data": {
      "text/plain": [
       "[__main__.D, __main__.B, __main__.C, __main__.A, object]"
      ]
     },
     "execution_count": 23,
     "metadata": {},
     "output_type": "execute_result"
    }
   ],
   "source": [
    " \n",
    "class A:\n",
    "    def rk(self):\n",
    "        print(\" In class A\")\n",
    "class B(A):\n",
    "    def rk(self):\n",
    "        print(\" In class B\")\n",
    "class C(A):\n",
    "    def rk(self):\n",
    "        print(\"In class C\")\n",
    " \n",
    "# classes ordering\n",
    "class D(B, C):\n",
    "    pass\n",
    "    \n",
    "r = D()\n",
    "r.rk()\n",
    "D.mro()"
   ]
  },
  {
   "cell_type": "code",
   "execution_count": null,
   "id": "d8d4490a",
   "metadata": {},
   "outputs": [],
   "source": []
  }
 ],
 "metadata": {
  "kernelspec": {
   "display_name": "Python 3 (ipykernel)",
   "language": "python",
   "name": "python3"
  },
  "language_info": {
   "codemirror_mode": {
    "name": "ipython",
    "version": 3
   },
   "file_extension": ".py",
   "mimetype": "text/x-python",
   "name": "python",
   "nbconvert_exporter": "python",
   "pygments_lexer": "ipython3",
   "version": "3.11.5"
  }
 },
 "nbformat": 4,
 "nbformat_minor": 5
}
