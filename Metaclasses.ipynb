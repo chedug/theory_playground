{
 "cells": [
  {
   "cell_type": "markdown",
   "id": "339518fa",
   "metadata": {},
   "source": [
    "# type"
   ]
  },
  {
   "cell_type": "code",
   "execution_count": 88,
   "id": "34027b12",
   "metadata": {},
   "outputs": [
    {
     "name": "stdout",
     "output_type": "stream",
     "text": [
      "[<class '__main__.Example'>, <class 'object'>]\n",
      "(<class '__main__.Meta'>, <class 'type'>, <class 'object'>)\n",
      "(<class '__main__.A'>, <class 'object'>)\n",
      "[<class '__main__.B'>, <class '__main__.A'>, <class 'object'>]\n"
     ]
    }
   ],
   "source": [
    "class Example:\n",
    "    pass\n",
    "\n",
    "class Meta(type):\n",
    "    pass\n",
    "\n",
    "class A(metaclass=Meta):\n",
    "    pass\n",
    "\n",
    "class B(A):\n",
    "    pass\n",
    "\n",
    "print(Example.mro())\n",
    "print(Meta.__mro__)\n",
    "print(A.__mro__)\n",
    "print(B.mro())\n"
   ]
  },
  {
   "cell_type": "markdown",
   "id": "9fc909eb",
   "metadata": {},
   "source": [
    "## Metaclass Example"
   ]
  },
  {
   "cell_type": "markdown",
   "id": "1d122847",
   "metadata": {},
   "source": [
    "### Code standartization"
   ]
  },
  {
   "cell_type": "code",
   "execution_count": 89,
   "id": "313baeb7",
   "metadata": {},
   "outputs": [
    {
     "data": {
      "text/plain": [
       "'EXAMPLE NAME'"
      ]
     },
     "execution_count": 89,
     "metadata": {},
     "output_type": "execute_result"
    }
   ],
   "source": [
    "class UppercaseNameMeta(type):\n",
    "    def __new__(cls, name, bases, namespace):\n",
    "        # Convert the name to uppercase\n",
    "        namespace['name'] = namespace['name'].upper()\n",
    "        return super().__new__(cls, name, bases, namespace)\n",
    "    \n",
    "class Example(metaclass=UppercaseNameMeta):\n",
    "    name = \"Example Name\"\n",
    "\n",
    "a = Example()\n",
    "a.name"
   ]
  },
  {
   "cell_type": "markdown",
   "id": "72aed1fa",
   "metadata": {},
   "source": [
    "### Dynamic Attribute Addition"
   ]
  },
  {
   "cell_type": "code",
   "execution_count": 60,
   "id": "7e3633bf",
   "metadata": {},
   "outputs": [],
   "source": [
    "class DynamicAttributesMeta(type):\n",
    "    def __new__(cls, name, bases, namespace):\n",
    "        namespace['dynamic_attribute'] = 42\n",
    "        return super().__new__(cls, name, bases, namespace)\n",
    "\n",
    "class MyClassWithDynamicAttribute(metaclass=DynamicAttributesMeta):\n",
    "    pass"
   ]
  },
  {
   "cell_type": "markdown",
   "id": "df437c00",
   "metadata": {},
   "source": [
    "### Singleton Pattern with Metaclass\n",
    "\n",
    "Enforcing Singleton Design pattern Structure"
   ]
  },
  {
   "cell_type": "code",
   "execution_count": 95,
   "id": "782ff142",
   "metadata": {},
   "outputs": [],
   "source": [
    "class SingletonException(Exception):\n",
    "    pass\n",
    "\n",
    "class SingletonMeta(type):\n",
    "    _instances = {}\n",
    "    def __call__(cls, *args, **kwargs):\n",
    "        if cls not in cls._instances:\n",
    "            instance = super().__call__(*args, **kwargs)\n",
    "            cls._instances[cls] = instance\n",
    "        else:\n",
    "            raise SingletonException\n",
    "        return cls._instances[cls]\n",
    "\n",
    "class SingletonClass(metaclass=SingletonMeta):\n",
    "    pass\n",
    "\n",
    "\n",
    "A = SingletonClass()\n",
    "\n",
    "#B = SingletonClass()\n"
   ]
  },
  {
   "cell_type": "code",
   "execution_count": 97,
   "id": "67658cb1",
   "metadata": {},
   "outputs": [],
   "source": [
    "a = 1\n",
    "a.__dir\n"
   ]
  },
  {
   "cell_type": "code",
   "execution_count": null,
   "id": "341e3d5a",
   "metadata": {},
   "outputs": [],
   "source": []
  }
 ],
 "metadata": {
  "kernelspec": {
   "display_name": "Python 3 (ipykernel)",
   "language": "python",
   "name": "python3"
  },
  "language_info": {
   "codemirror_mode": {
    "name": "ipython",
    "version": 3
   },
   "file_extension": ".py",
   "mimetype": "text/x-python",
   "name": "python",
   "nbconvert_exporter": "python",
   "pygments_lexer": "ipython3",
   "version": "3.9.12"
  }
 },
 "nbformat": 4,
 "nbformat_minor": 5
}
