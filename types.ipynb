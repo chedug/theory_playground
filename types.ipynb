{
 "cells": [
  {
   "cell_type": "markdown",
   "id": "1028822f",
   "metadata": {},
   "source": [
    "# Types"
   ]
  },
  {
   "cell_type": "markdown",
   "id": "9df3d3ae",
   "metadata": {},
   "source": [
    "## int, bool, float, str\n",
    "\n",
    "**Is float/bool is subclass of int?**\n"
   ]
  },
  {
   "cell_type": "code",
   "execution_count": 9,
   "id": "b54620c3",
   "metadata": {},
   "outputs": [
    {
     "name": "stdout",
     "output_type": "stream",
     "text": [
      "True\n",
      "False\n"
     ]
    }
   ],
   "source": [
    "print(issubclass(bool, int))\n",
    "print(issubclass(int, float))"
   ]
  },
  {
   "cell_type": "markdown",
   "id": "b4be4e86",
   "metadata": {},
   "source": [
    "**`isinstance(bool, int)`vs `type(bool) is int`**"
   ]
  },
  {
   "cell_type": "code",
   "execution_count": 26,
   "id": "d188478b",
   "metadata": {},
   "outputs": [
    {
     "name": "stdout",
     "output_type": "stream",
     "text": [
      "False\n",
      "False\n"
     ]
    }
   ],
   "source": [
    "# The following line check whether bool is an instance of int\n",
    "print(isinstance(bool, int))\n",
    "\n",
    "# The following line on the other hand checks whether \n",
    "# type of bool is int\n",
    "print(type(bool) is int)"
   ]
  },
  {
   "cell_type": "markdown",
   "id": "bfec12a1",
   "metadata": {},
   "source": [
    "As we can see, both of these lines print `False`. That's because `bool` is actually an instance of a class `type`. And the instances of class `int` are: `True`, `False`, 5, -43, etc.\n",
    "\n",
    "`type` on the other hand returns to as exact `type` of the object in the parameter. In this case, `type` of `bool` is `type`, which is not equal to `int`. Even if we are to input `False`, the `type` of `False` is `bool`, which is not equal to `int`. That's a notable example, sice `isinstance(False, int)` will give us `True`, since `False` is actually can be represented as logical 0, which is an instance of the class `int`."
   ]
  },
  {
   "cell_type": "markdown",
   "id": "2bb04e07",
   "metadata": {},
   "source": [
    "**Dimensions of types**"
   ]
  },
  {
   "attachments": {
    "cint_vs_pyint.png": {
     "image/png": "[encoded data removed]"
    }
   },
   "cell_type": "markdown",
   "id": "05c4ee50",
   "metadata": {},
   "source": [
    "![cint_vs_pyint.png](attachment:cint_vs_pyint.png)\n",
    "\n",
    "A single integer in Python 3.4 actually contains four pieces:\n",
    "\n",
    "- `ob_refcnt`, a reference count that helps Python silently handle memory allocation and deallocation\n",
    "- `ob_type`, which encodes the type of the variable\n",
    "- `ob_size`, which specifies the size of the following data members\n",
    "- `ob_digit`, which contains the actual integer value that we expect the Python variable to represent.\n",
    "\n",
    "\n",
    "\n",
    "\n",
    "\\* *(from https://jakevdp.github.io/PythonDataScienceHandbook/02.01-understanding-data-types.html)*"
   ]
  },
  {
   "cell_type": "markdown",
   "id": "31fd86e5",
   "metadata": {},
   "source": [
    "**Here are some sizes (in bytes) of some instances of types** (python 3.9.12)\n",
    "\n",
    "(Important) These sizes heavily depend on version of python"
   ]
  },
  {
   "cell_type": "code",
   "execution_count": 55,
   "id": "7391f0d0",
   "metadata": {},
   "outputs": [
    {
     "name": "stdout",
     "output_type": "stream",
     "text": [
      "Size of int is: 24\n",
      "Size of float is: 24\n",
      "Size of str is: 51\n",
      "Size of list is: 56\n",
      "Size of tuple is: 40\n",
      "Size of dict is: 232\n",
      "Size of set is: 216\n",
      "Size of frozenset is: 216\n",
      "Size of None is: 16\n",
      "Size of Ellipsis is: 16\n",
      "Size of Object is: 16\n",
      "Size of Lambda is: 136\n",
      "Size of Function-ref is: 136\n",
      "Size of Exception is: 80\n"
     ]
    }
   ],
   "source": [
    "import sys\n",
    "\n",
    "def f(): return\n",
    "\n",
    "types = [int(0), float(0), str(), list(), tuple(), dict(), set(), frozenset(), None, ..., object(), lambda: None, f, Exception()]\n",
    "names = [\"int\", \"float\", \"str\", \"list\", \"tuple\", \"dict\", \"set\", \"frozenset\", \"None\", \"Ellipsis\", \"Object\", \"Lambda\", \"Function-ref\", \"Exception\"]\n",
    "\n",
    "sizes = list(map(lambda x: sys.getsizeof(x), types))\n",
    "\n",
    "for t, s in zip(names, sizes): print(f\"Size of {t} is: {s}\")\n"
   ]
  },
  {
   "cell_type": "markdown",
   "id": "b2bd4185",
   "metadata": {},
   "source": [
    "#### str concatenation is bad?"
   ]
  },
  {
   "cell_type": "code",
   "execution_count": null,
   "id": "e5df3834",
   "metadata": {},
   "outputs": [],
   "source": []
  },
  {
   "cell_type": "markdown",
   "id": "c6e1eaf7",
   "metadata": {},
   "source": [
    "# Bytes, Bytearrays"
   ]
  },
  {
   "cell_type": "markdown",
   "id": "5de15b90",
   "metadata": {},
   "source": [
    "Python 3's `bytes` and `bytearray` classes both hold arrays of bytes, where each byte can take on a value between 0 and 255. The primary difference is that a `bytes` object is immutable, meaning that once created, you cannot modify its elements. By contrast, a `bytearray` object allows you to modify its elements.\n",
    "\n",
    "Both `bytes` and `bytearray` provide functions to encode and decode strings\n",
    "\n",
    "\\* *(source: https://stackoverflow.com/questions/62903377/python3-bytes-vs-bytearray-and-converting-to-and-from-strings)*"
   ]
  },
  {
   "cell_type": "code",
   "execution_count": 80,
   "id": "a3d54b76",
   "metadata": {},
   "outputs": [
    {
     "name": "stdout",
     "output_type": "stream",
     "text": [
      "36\n",
      "52\n"
     ]
    }
   ],
   "source": [
    "a = \"fqwjefwfqpeuewfqfwefqwefwqefwqefwqhfwpuhefqo]\"\n",
    "b = a.encode(\"utf-8\")  # convert str to bytes\n",
    "c = b.decode()  # convert bytes to str\n",
    "\n",
    "print(sys.getsizeof(bytes(\"wfe\", \"utf-8\")))\n",
    "print(sys.getsizeof(\"wfe\"))\n",
    "\n",
    "# as we can see from the output, one advantage of bytes\n",
    "# is that its size is smaller than of str"
   ]
  },
  {
   "cell_type": "markdown",
   "id": "d48b2831",
   "metadata": {},
   "source": [
    "## complex, Decimal, NoneType\n",
    "\n",
    "#### complex"
   ]
  },
  {
   "cell_type": "code",
   "execution_count": 89,
   "id": "537718e9",
   "metadata": {},
   "outputs": [
    {
     "name": "stdout",
     "output_type": "stream",
     "text": [
      "x is (3+5j)\n"
     ]
    }
   ],
   "source": [
    "x = complex(3,5)\n",
    "type(x) is complex  # True\n",
    "print(f\"x is {x}\")"
   ]
  },
  {
   "cell_type": "markdown",
   "id": "d57d5270",
   "metadata": {},
   "source": [
    "#### Decimal\n",
    "\n",
    "Use decimals when precision matters, such as with financial calculations.  \n",
    "Decimals can suffer from their own precision issues, but generally, decimals are more precise than floats. The performance difference between float and decimal, with Python 3, is not outlandish, and in my experience, the precision benefits of a decimal outweigh the performance benefits of a float."
   ]
  },
  {
   "cell_type": "code",
   "execution_count": 96,
   "id": "9a8c6976",
   "metadata": {},
   "outputs": [
    {
     "name": "stdout",
     "output_type": "stream",
     "text": [
      "0.100000000000000000\n"
     ]
    },
    {
     "data": {
      "text/plain": [
       "True"
      ]
     },
     "execution_count": 96,
     "metadata": {},
     "output_type": "execute_result"
    }
   ],
   "source": [
    "from decimal import Decimal\n",
    "\n",
    "print(f\"{Decimal('0.1'):.18f}\")\n",
    "\n",
    "Decimal('.1') + Decimal('.1') + Decimal('.1') == Decimal('.3')"
   ]
  },
  {
   "cell_type": "code",
   "execution_count": 98,
   "id": "19f14604",
   "metadata": {},
   "outputs": [
    {
     "data": {
      "text/plain": [
       "False"
      ]
     },
     "execution_count": 98,
     "metadata": {},
     "output_type": "execute_result"
    }
   ],
   "source": [
    ".1 + .1 + .1 == .3"
   ]
  },
  {
   "cell_type": "markdown",
   "id": "b47be214",
   "metadata": {},
   "source": [
    "You see my point? `float` has major precision issues, although performance-wise they might be better"
   ]
  },
  {
   "cell_type": "markdown",
   "id": "b5bcc366",
   "metadata": {},
   "source": [
    "However, `Decimal` has also issues with precision, mainly when we are dealing with fractions:"
   ]
  },
  {
   "cell_type": "code",
   "execution_count": 107,
   "id": "854add5e",
   "metadata": {},
   "outputs": [
    {
     "name": "stdout",
     "output_type": "stream",
     "text": [
      "False\n"
     ]
    },
    {
     "data": {
      "text/plain": [
       "Decimal('0.9999999999999999999999999999')"
      ]
     },
     "execution_count": 107,
     "metadata": {},
     "output_type": "execute_result"
    }
   ],
   "source": [
    "print(Decimal('1') / Decimal('3') * Decimal('3') == Decimal('1'))\n",
    "\n",
    "Decimal('1') / Decimal('3') * Decimal('3')"
   ]
  },
  {
   "cell_type": "markdown",
   "id": "774e1396",
   "metadata": {},
   "source": [
    "#### NoneType\n",
    "\n",
    "`NoneType` is the type for the `None` object, which is an object that indicates no value. `None` is the return value of functions that \"don't return anything\". It is also a common default return value for functions that search for something and may or may not find it; for example, it's returned by `re.search` when the `regex` doesn't match, or `dict.get` when the key has no entry in the dict. You cannot add `None` to strings or other objects."
   ]
  },
  {
   "cell_type": "code",
   "execution_count": 119,
   "id": "bdd5c619",
   "metadata": {},
   "outputs": [
    {
     "data": {
      "text/plain": [
       "NoneType"
      ]
     },
     "execution_count": 119,
     "metadata": {},
     "output_type": "execute_result"
    }
   ],
   "source": [
    "type(None)"
   ]
  },
  {
   "cell_type": "markdown",
   "id": "f5b1d96a",
   "metadata": {},
   "source": [
    "# dict, defaultdic\n",
    "\n",
    "**Q:** Why is the dict data structure necessary? \n",
    "\n",
    "**A:** It is necessary when we want to associate values with keys, and then look up this values by their keys efficiently\n",
    "\n",
    "**Q:** Name the main methods for working with dict structure?  \n",
    "\n",
    "**A:** \n",
    "\n",
    "| Function Name | Descriptions |\n",
    "| --- | --- |\n",
    "| clear() | Removes all items from the dictionary |\n",
    "| copy() | Returns a shallow copy of the dictionary |\n",
    "| fromkeys() | Creates a dictionary from the given sequence |\n",
    "| get() | Returns the value for the given key |\n",
    "| items() | Return the list with all dictionary keys with values |\n",
    "| keys() | Returns a view object that displays a list of all the keys in the dictionary in order of insertion |\n",
    "| pop() | Returns and removes the element with the given key |\n",
    "| popitem() | Returns and removes the key-value pair from the dictionary |\n",
    "| setdefault() | Returns the value of a key if the key is in the dictionary else inserts the key with a value to the dictionary |\n",
    "| values() | Returns a list of all the values available in a given dictionary |\n",
    "| update() | Updates the dictionary with the elements from another dictionary  |\n",
    "\n",
    "**Q:** Is it possible to make any object in Python the key of a dict data structure?\n",
    "\n",
    "**A:** Only hashable objects\n",
    "\n",
    "**Q:** Does the insertion order store the dict data structure?  **A:** Yes.\n",
    "\n",
    "\n",
    "**Q:** What keys will be in the dict as a result of the command d = {1: \"\"a\"\", True: \"\"b\"\", 1.0: \"\"c\"\"}?  **A:** c\n"
   ]
  },
  {
   "cell_type": "code",
   "execution_count": 126,
   "id": "d5dd256c",
   "metadata": {},
   "outputs": [
    {
     "data": {
      "text/plain": [
       "{1: 'c'}"
      ]
     },
     "execution_count": 126,
     "metadata": {},
     "output_type": "execute_result"
    }
   ],
   "source": [
    "d = {1: 'a', True: 'b', 1.0: 'c'}\n",
    "d"
   ]
  },
  {
   "cell_type": "markdown",
   "id": "f16ba48c",
   "metadata": {},
   "source": [
    "#### defaultdict\n",
    "\n",
    "dict subclass that calls a factory function to supply missing values.\n",
    "\n",
    "`class collections.defaultdict(default_factory=None, /[, ...])`\n",
    "\n",
    "Return a new dictionary-like object. defaultdict is a subclass of the built-in dict class. It overrides one method and adds one writable instance variable. The remaining functionality is the same as for the dict class and is not documented here."
   ]
  },
  {
   "cell_type": "code",
   "execution_count": 145,
   "id": "ec7b48e9",
   "metadata": {},
   "outputs": [
    {
     "data": {
      "text/plain": [
       "True"
      ]
     },
     "execution_count": 145,
     "metadata": {},
     "output_type": "execute_result"
    }
   ],
   "source": [
    "from collections import defaultdict\n",
    "\n",
    "isinstance(defaultdict(), dict)\n"
   ]
  },
  {
   "cell_type": "code",
   "execution_count": null,
   "id": "413c9e1d",
   "metadata": {},
   "outputs": [],
   "source": []
  }
 ],
 "metadata": {
  "kernelspec": {
   "display_name": "Python 3 (ipykernel)",
   "language": "python",
   "name": "python3"
  },
  "language_info": {
   "codemirror_mode": {
    "name": "ipython",
    "version": 3
   },
   "file_extension": ".py",
   "mimetype": "text/x-python",
   "name": "python",
   "nbconvert_exporter": "python",
   "pygments_lexer": "ipython3",
   "version": "3.9.12"
  }
 },
 "nbformat": 4,
 "nbformat_minor": 5
}
