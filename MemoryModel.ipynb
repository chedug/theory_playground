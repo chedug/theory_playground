{
 "cells": [
  {
   "cell_type": "code",
   "execution_count": 67,
   "metadata": {},
   "outputs": [],
   "source": [
    "from sys import getrefcount as grc\n",
    "import gc"
   ]
  },
  {
   "cell_type": "markdown",
   "metadata": {},
   "source": [
    "Small integers are most used integers in other places like indices of the sequence types and so many other places. (In fact Python caches integers between -5 up to 256 in an array and treats them as singletons. Whenever you create an integer in this range you will get a reference back.)"
   ]
  },
  {
   "cell_type": "code",
   "execution_count": 68,
   "metadata": {},
   "outputs": [
    {
     "name": "stdout",
     "output_type": "stream",
     "text": [
      "Ref. count of  -6 is 2\n",
      "Ref. count of  -5 is 1000000008\n",
      "Ref. count of  -4 is 1000000008\n",
      "...\n",
      "Ref. count of 255 is 1000001234\n",
      "Ref. count of 256 is 1000000199\n",
      "Ref. count of 257 is 2\n"
     ]
    }
   ],
   "source": [
    "for num in range(-6, -3):\n",
    "    print(f\"Ref. count of {num:3} is {grc(num)}\")\n",
    "print(\"...\")\n",
    "for num in range(255, 258):\n",
    "    print(f\"Ref. count of {num:3} is {grc(num)}\")"
   ]
  },
  {
   "cell_type": "markdown",
   "metadata": {},
   "source": [
    "You can see which objects refer to a specified object using `gc.get_referrers`"
   ]
  },
  {
   "cell_type": "code",
   "execution_count": 69,
   "metadata": {},
   "outputs": [
    {
     "data": {
      "text/plain": [
       "[(257, None)]"
      ]
     },
     "execution_count": 69,
     "metadata": {},
     "output_type": "execute_result"
    }
   ],
   "source": [
    "gc.get_referrers(257)"
   ]
  },
  {
   "cell_type": "markdown",
   "metadata": {},
   "source": [
    "`gc.get_stats()` Return a list of three per-generation dictionaries containing collection statistics since interpreter start. The number of keys may change in the future, but currently each dictionary will contain the following items:\n",
    "\n",
    "- collections is the number of times this generation was collected;\n",
    "\n",
    "- collected is the total number of objects collected inside this generation;\n",
    "\n",
    "- uncollectable is the total number of objects which were found to be uncollectable (and were therefore moved to the garbage list) inside this generation."
   ]
  },
  {
   "cell_type": "code",
   "execution_count": 70,
   "metadata": {},
   "outputs": [
    {
     "data": {
      "text/plain": [
       "[{'collections': 851, 'collected': 450573, 'uncollectable': 0},\n",
       " {'collections': 76, 'collected': 60500, 'uncollectable': 0},\n",
       " {'collections': 5, 'collected': 2969, 'uncollectable': 0}]"
      ]
     },
     "execution_count": 70,
     "metadata": {},
     "output_type": "execute_result"
    }
   ],
   "source": [
    "gc.get_stats()"
   ]
  },
  {
   "cell_type": "code",
   "execution_count": 71,
   "metadata": {},
   "outputs": [
    {
     "data": {
      "text/plain": [
       "2"
      ]
     },
     "execution_count": 71,
     "metadata": {},
     "output_type": "execute_result"
    }
   ],
   "source": [
    "x = object()\n",
    "grc(x)"
   ]
  },
  {
   "cell_type": "code",
   "execution_count": 72,
   "metadata": {},
   "outputs": [
    {
     "data": {
      "text/plain": [
       "3"
      ]
     },
     "execution_count": 72,
     "metadata": {},
     "output_type": "execute_result"
    }
   ],
   "source": [
    "y = x\n",
    "grc(x)"
   ]
  },
  {
   "cell_type": "code",
   "execution_count": 73,
   "metadata": {},
   "outputs": [
    {
     "data": {
      "text/plain": [
       "2"
      ]
     },
     "execution_count": 73,
     "metadata": {},
     "output_type": "execute_result"
    }
   ],
   "source": [
    "del y\n",
    "grc(x)"
   ]
  },
  {
   "cell_type": "code",
   "execution_count": 74,
   "metadata": {},
   "outputs": [],
   "source": [
    "class Link:\n",
    "    def __init__(self, next_link=None):\n",
    "        self.next_link = next_link\n",
    "\n",
    "link3 = Link()\n",
    "link2 = Link(link3)\n",
    "link1 = Link(link2)\n",
    "link3.next_link = link1\n",
    "A = link1\n",
    "del link1, link2, link3\n",
    "link4 = Link()\n",
    "link4.next_link = link4\n",
    "del link4\n",
    "\n"
   ]
  },
  {
   "cell_type": "code",
   "execution_count": null,
   "metadata": {},
   "outputs": [],
   "source": []
  }
 ],
 "metadata": {
  "kernelspec": {
   "display_name": "playground_env",
   "language": "python",
   "name": "python3"
  },
  "language_info": {
   "codemirror_mode": {
    "name": "ipython",
    "version": 3
   },
   "file_extension": ".py",
   "mimetype": "text/x-python",
   "name": "python",
   "nbconvert_exporter": "python",
   "pygments_lexer": "ipython3",
   "version": "3.11.4"
  }
 },
 "nbformat": 4,
 "nbformat_minor": 2
}
