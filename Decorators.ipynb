{
 "cells": [
  {
   "cell_type": "markdown",
   "metadata": {},
   "source": [
    "Simple decorator for function with no args, kwargs"
   ]
  },
  {
   "cell_type": "code",
   "execution_count": 23,
   "metadata": {},
   "outputs": [],
   "source": [
    "from time import time, sleep\n",
    "\n",
    "def timeit(func):\n",
    "    def wrapper():\n",
    "        start = time()\n",
    "        print(\"START TIMING\")\n",
    "        func()\n",
    "        end = time()\n",
    "        print(\"END TIMING\")\n",
    "        print(f\"{end - start:.3f} seconds have passed\")\n",
    "    return wrapper\n",
    "\n",
    "@timeit\n",
    "def lol():\n",
    "    sleep(1)\n",
    "    print(\"LOL\")\n",
    "\n"
   ]
  },
  {
   "cell_type": "code",
   "execution_count": 24,
   "metadata": {},
   "outputs": [
    {
     "name": "stdout",
     "output_type": "stream",
     "text": [
      "START TIMING\n",
      "LOL\n",
      "END TIMING\n",
      "1.001 seconds have passed\n"
     ]
    }
   ],
   "source": [
    "lol()"
   ]
  },
  {
   "cell_type": "markdown",
   "metadata": {},
   "source": [
    "Let's modify it, so it can be used for functions with args and kwargs"
   ]
  },
  {
   "cell_type": "code",
   "execution_count": 25,
   "metadata": {},
   "outputs": [],
   "source": [
    "def timeit(func):\n",
    "    def wrapper(*args, **kwargs):\n",
    "        start = time()\n",
    "        print(\"START TIMING\")\n",
    "        func(*args, **kwargs)\n",
    "        end = time()\n",
    "        print(\"END TIMING\")\n",
    "        print(f\"{end - start:.3f} seconds have passed\")\n",
    "    return wrapper"
   ]
  },
  {
   "cell_type": "code",
   "execution_count": 29,
   "metadata": {},
   "outputs": [],
   "source": [
    "@timeit\n",
    "def sum(a, b):\n",
    "    c = a + b\n",
    "    print(c)\n",
    "    return c"
   ]
  },
  {
   "cell_type": "code",
   "execution_count": 49,
   "metadata": {},
   "outputs": [
    {
     "name": "stdout",
     "output_type": "stream",
     "text": [
      "START TIMING\n",
      "4\n",
      "END TIMING\n",
      "0.000 seconds have passed\n",
      "None\n"
     ]
    }
   ],
   "source": [
    "sum(1, 3)"
   ]
  },
  {
   "cell_type": "code",
   "execution_count": 46,
   "metadata": {},
   "outputs": [],
   "source": [
    "@timeit\n",
    "def table_view(**kwargs):\n",
    "    for key, value in kwargs.items():\n",
    "        sleep(0.5)\n",
    "        print(f\"{key:10} | {value:2}\")\n"
   ]
  },
  {
   "cell_type": "code",
   "execution_count": 47,
   "metadata": {},
   "outputs": [
    {
     "name": "stdout",
     "output_type": "stream",
     "text": [
      "START TIMING\n",
      "Albania    |  1\n",
      "Kazakhstan |  2\n",
      "Argentina  |  3\n",
      "END TIMING\n",
      "1.501 seconds have passed\n"
     ]
    }
   ],
   "source": [
    "table_view(\n",
    "    Albania= 1,\n",
    "    Kazakhstan= 2,\n",
    "    Argentina= 3\n",
    ")"
   ]
  },
  {
   "cell_type": "markdown",
   "metadata": {},
   "source": [
    "The problem with these decorators is that, return value of decorated function is not returned:"
   ]
  },
  {
   "cell_type": "code",
   "execution_count": 52,
   "metadata": {},
   "outputs": [
    {
     "name": "stdout",
     "output_type": "stream",
     "text": [
      "START TIMING\n",
      "5\n",
      "END TIMING\n",
      "0.000 seconds have passed\n",
      "None\n"
     ]
    }
   ],
   "source": [
    "print(sum(1, 4))"
   ]
  },
  {
   "cell_type": "markdown",
   "metadata": {},
   "source": [
    "To fix this we modify timeit again:"
   ]
  },
  {
   "cell_type": "code",
   "execution_count": 55,
   "metadata": {},
   "outputs": [],
   "source": [
    "def timeit_new(func):\n",
    "    def wrapper(*args, **kwargs):\n",
    "        start = time()\n",
    "        print(\"START TIMING\")\n",
    "        value = func(*args, **kwargs)\n",
    "        end = time()\n",
    "        print(\"END TIMING\")\n",
    "        print(f\"{end - start:.3f} seconds have passed\")\n",
    "        return value\n",
    "    return wrapper"
   ]
  },
  {
   "cell_type": "code",
   "execution_count": 57,
   "metadata": {},
   "outputs": [],
   "source": [
    "@timeit_new\n",
    "def sum(a, b):\n",
    "    c = a + b\n",
    "    print(c)\n",
    "    return c"
   ]
  },
  {
   "cell_type": "code",
   "execution_count": 59,
   "metadata": {},
   "outputs": [
    {
     "name": "stdout",
     "output_type": "stream",
     "text": [
      "START TIMING\n",
      "5\n",
      "END TIMING\n",
      "0.000 seconds have passed\n",
      "5\n"
     ]
    }
   ],
   "source": [
    "print(sum(1,4))"
   ]
  },
  {
   "cell_type": "markdown",
   "metadata": {},
   "source": [
    "New problem: Function has lost its identity"
   ]
  },
  {
   "cell_type": "code",
   "execution_count": 61,
   "metadata": {},
   "outputs": [
    {
     "data": {
      "text/plain": [
       "'wrapper'"
      ]
     },
     "execution_count": 61,
     "metadata": {},
     "output_type": "execute_result"
    }
   ],
   "source": [
    "sum.__name__"
   ]
  },
  {
   "cell_type": "markdown",
   "metadata": {},
   "source": [
    "To solve it we use `functools` module"
   ]
  },
  {
   "cell_type": "code",
   "execution_count": 63,
   "metadata": {},
   "outputs": [],
   "source": [
    "import functools\n",
    "\n",
    "def timeit_new2(func):\n",
    "    @functools.wraps(func)\n",
    "    def wrapper(*args, **kwargs):\n",
    "        start = time()\n",
    "        print(\"START TIMING\")\n",
    "        value = func(*args, **kwargs)\n",
    "        end = time()\n",
    "        print(\"END TIMING\")\n",
    "        print(f\"{end - start:.3f} seconds have passed\")\n",
    "        return value\n",
    "    return wrapper"
   ]
  },
  {
   "cell_type": "code",
   "execution_count": 64,
   "metadata": {},
   "outputs": [],
   "source": [
    "@timeit_new2\n",
    "def sum(a, b):\n",
    "    c = a + b\n",
    "    print(c)\n",
    "    return c"
   ]
  },
  {
   "cell_type": "code",
   "execution_count": 66,
   "metadata": {},
   "outputs": [
    {
     "data": {
      "text/plain": [
       "'sum'"
      ]
     },
     "execution_count": 66,
     "metadata": {},
     "output_type": "execute_result"
    }
   ],
   "source": [
    "sum.__name__"
   ]
  },
  {
   "cell_type": "markdown",
   "metadata": {},
   "source": [
    "Good."
   ]
  },
  {
   "cell_type": "markdown",
   "metadata": {},
   "source": []
  }
 ],
 "metadata": {
  "kernelspec": {
   "display_name": "playground_env",
   "language": "python",
   "name": "python3"
  },
  "language_info": {
   "codemirror_mode": {
    "name": "ipython",
    "version": 3
   },
   "file_extension": ".py",
   "mimetype": "text/x-python",
   "name": "python",
   "nbconvert_exporter": "python",
   "pygments_lexer": "ipython3",
   "version": "3.11.4"
  }
 },
 "nbformat": 4,
 "nbformat_minor": 2
}
