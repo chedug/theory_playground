{
 "cells": [
  {
   "cell_type": "markdown",
   "id": "5593662d",
   "metadata": {},
   "source": [
    "Generator functions. Send. Next"
   ]
  },
  {
   "cell_type": "code",
   "execution_count": 76,
   "id": "f613ec36",
   "metadata": {},
   "outputs": [
    {
     "name": "stdout",
     "output_type": "stream",
     "text": [
      "1.0\n",
      "1.5\n",
      "2.0\n",
      "2.5\n"
     ]
    },
    {
     "data": {
      "text/plain": [
       "3.0"
      ]
     },
     "execution_count": 76,
     "metadata": {},
     "output_type": "execute_result"
    }
   ],
   "source": [
    "## running average of a sequence of numbers\n",
    "\n",
    "def avg(n=None):\n",
    "    running_sum = 0\n",
    "    for i in range(1, n+1):\n",
    "        running_sum += i\n",
    "        running_average = running_sum / (i)\n",
    "        yield running_average \n",
    "        print(running_average)\n",
    "\n",
    "g = avg(6)\n",
    "next(g)\n",
    "next(g)\n",
    "next(g)\n",
    "next(g)\n",
    "next(g)"
   ]
  }
 ],
 "metadata": {
  "kernelspec": {
   "display_name": "Python 3 (ipykernel)",
   "language": "python",
   "name": "python3"
  },
  "language_info": {
   "codemirror_mode": {
    "name": "ipython",
    "version": 3
   },
   "file_extension": ".py",
   "mimetype": "text/x-python",
   "name": "python",
   "nbconvert_exporter": "python",
   "pygments_lexer": "ipython3",
   "version": "3.11.4"
  }
 },
 "nbformat": 4,
 "nbformat_minor": 5
}
